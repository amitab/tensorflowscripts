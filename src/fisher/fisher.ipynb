{
 "cells": [
  {
   "cell_type": "code",
   "execution_count": 1,
   "metadata": {},
   "outputs": [],
   "source": [
    "import numpy as np # linear algebra\n",
    "import pandas as pd # data processing, CSV file I/O (e.g. pd.read_csv)\n",
    "import keras \n",
    "from keras.models import Sequential\n",
    "from keras.layers import Conv2D, Dense, MaxPool2D, Dropout, Flatten\n",
    "from keras.optimizers import Adam\n",
    "from keras.preprocessing.image import ImageDataGenerator\n",
    "from keras.callbacks import ReduceLROnPlateau\n",
    "from sklearn.model_selection import train_test_split\n",
    "import matplotlib.pyplot as plt\n",
    "import seaborn as sns\n",
    "\n",
    "import matplotlib.pyplot as plt\n",
    "# if using a Jupyter notebook, include:\n",
    "%matplotlib inline"
   ]
  },
  {
   "cell_type": "code",
   "execution_count": 2,
   "metadata": {},
   "outputs": [],
   "source": [
    "model = Sequential()\n",
    "model.add(Conv2D(filters=8, kernel_size=(3,3), padding='same', activation='relu', input_shape=(28, 28, 1)))\n",
    "model.add(MaxPool2D(strides=2))\n",
    "model.add(Conv2D(filters=16, kernel_size=(3,3), padding='valid', activation='relu'))\n",
    "model.add(MaxPool2D(strides=2))\n",
    "model.add(Conv2D(filters=32, kernel_size=(3,3), padding='valid', activation='relu'))\n",
    "model.add(MaxPool2D(strides=2))\n",
    "model.add(Flatten())\n",
    "model.add(Dense(128, activation='relu'))\n",
    "model.add(Dense(256, activation='relu'))\n",
    "model.add(Dense(10, activation='softmax'))"
   ]
  },
  {
   "cell_type": "code",
   "execution_count": 3,
   "metadata": {},
   "outputs": [
    {
     "name": "stdout",
     "output_type": "stream",
     "text": [
      "Model: \"sequential\"\n",
      "_________________________________________________________________\n",
      "Layer (type)                 Output Shape              Param #   \n",
      "=================================================================\n",
      "conv2d (Conv2D)              (None, 28, 28, 8)         80        \n",
      "_________________________________________________________________\n",
      "max_pooling2d (MaxPooling2D) (None, 14, 14, 8)         0         \n",
      "_________________________________________________________________\n",
      "conv2d_1 (Conv2D)            (None, 12, 12, 16)        1168      \n",
      "_________________________________________________________________\n",
      "max_pooling2d_1 (MaxPooling2 (None, 6, 6, 16)          0         \n",
      "_________________________________________________________________\n",
      "conv2d_2 (Conv2D)            (None, 4, 4, 32)          4640      \n",
      "_________________________________________________________________\n",
      "max_pooling2d_2 (MaxPooling2 (None, 2, 2, 32)          0         \n",
      "_________________________________________________________________\n",
      "flatten (Flatten)            (None, 128)               0         \n",
      "_________________________________________________________________\n",
      "dense (Dense)                (None, 128)               16512     \n",
      "_________________________________________________________________\n",
      "dense_1 (Dense)              (None, 256)               33024     \n",
      "_________________________________________________________________\n",
      "dense_2 (Dense)              (None, 10)                2570      \n",
      "=================================================================\n",
      "Total params: 57,994\n",
      "Trainable params: 57,994\n",
      "Non-trainable params: 0\n",
      "_________________________________________________________________\n"
     ]
    }
   ],
   "source": [
    "model.build()\n",
    "model.summary()"
   ]
  },
  {
   "cell_type": "code",
   "execution_count": 4,
   "metadata": {},
   "outputs": [],
   "source": [
    "from keras import backend as k"
   ]
  },
  {
   "cell_type": "code",
   "execution_count": 5,
   "metadata": {},
   "outputs": [
    {
     "data": {
      "text/plain": [
       "(55000, 28, 28, 1)"
      ]
     },
     "execution_count": 5,
     "metadata": {},
     "output_type": "execute_result"
    }
   ],
   "source": [
    "with open('mnist_raw_data.npy', 'rb') as f:\n",
    "    raw_data = np.load(f, allow_pickle=True, encoding = 'latin1')\n",
    "raw_data.shape"
   ]
  },
  {
   "cell_type": "code",
   "execution_count": 6,
   "metadata": {},
   "outputs": [],
   "source": [
    "model.compile(optimizer = 'adam', loss = 'categorical_crossentropy', metrics = ['accuracy'])"
   ]
  },
  {
   "cell_type": "code",
   "execution_count": 7,
   "metadata": {},
   "outputs": [
    {
     "data": {
      "text/plain": [
       "(55000, 10)"
      ]
     },
     "execution_count": 7,
     "metadata": {},
     "output_type": "execute_result"
    }
   ],
   "source": [
    "with open('mnist_label_data.npy', 'rb') as f:\n",
    "    label_data = np.load(f, allow_pickle=True, encoding = 'latin1')\n",
    "label_data.shape"
   ]
  },
  {
   "cell_type": "code",
   "execution_count": 9,
   "metadata": {},
   "outputs": [
    {
     "name": "stdout",
     "output_type": "stream",
     "text": [
      "Epoch 1/42\n",
      "10/10 [==============================] - 4s 443ms/step - loss: 2.2296 - accuracy: 0.4067\n",
      "Epoch 2/42\n",
      "10/10 [==============================] - 5s 476ms/step - loss: 1.8092 - accuracy: 0.6850\n",
      "Epoch 3/42\n",
      "10/10 [==============================] - 5s 475ms/step - loss: 0.9982 - accuracy: 0.7815\n",
      "Epoch 4/42\n",
      "10/10 [==============================] - 5s 504ms/step - loss: 0.5209 - accuracy: 0.8483\n",
      "Epoch 5/42\n",
      "10/10 [==============================] - 5s 523ms/step - loss: 0.3535 - accuracy: 0.8929\n",
      "Epoch 6/42\n",
      "10/10 [==============================] - 5s 535ms/step - loss: 0.2719 - accuracy: 0.9194\n",
      "Epoch 7/42\n",
      "10/10 [==============================] - 5s 526ms/step - loss: 0.2264 - accuracy: 0.9329\n",
      "Epoch 8/42\n",
      "10/10 [==============================] - 5s 525ms/step - loss: 0.1957 - accuracy: 0.9416\n",
      "Epoch 9/42\n",
      "10/10 [==============================] - 5s 541ms/step - loss: 0.1742 - accuracy: 0.9478\n",
      "Epoch 10/42\n",
      "10/10 [==============================] - 5s 537ms/step - loss: 0.1608 - accuracy: 0.9513\n",
      "Epoch 11/42\n",
      "10/10 [==============================] - 5s 545ms/step - loss: 0.1477 - accuracy: 0.9542\n",
      "Epoch 12/42\n",
      "10/10 [==============================] - 5s 537ms/step - loss: 0.1342 - accuracy: 0.9595\n",
      "Epoch 13/42\n",
      "10/10 [==============================] - 5s 539ms/step - loss: 0.1263 - accuracy: 0.9615\n",
      "Epoch 14/42\n",
      "10/10 [==============================] - 6s 574ms/step - loss: 0.1190 - accuracy: 0.9636\n",
      "Epoch 15/42\n",
      "10/10 [==============================] - 6s 564ms/step - loss: 0.1137 - accuracy: 0.9652\n",
      "Epoch 16/42\n",
      "10/10 [==============================] - 6s 576ms/step - loss: 0.1085 - accuracy: 0.9666\n",
      "Epoch 17/42\n",
      "10/10 [==============================] - 6s 617ms/step - loss: 0.1023 - accuracy: 0.9685\n",
      "Epoch 18/42\n",
      "10/10 [==============================] - 7s 683ms/step - loss: 0.0965 - accuracy: 0.9703\n",
      "Epoch 19/42\n",
      "10/10 [==============================] - 6s 611ms/step - loss: 0.0925 - accuracy: 0.9720\n",
      "Epoch 20/42\n",
      "10/10 [==============================] - 6s 596ms/step - loss: 0.0888 - accuracy: 0.9725\n",
      "Epoch 21/42\n",
      "10/10 [==============================] - 6s 596ms/step - loss: 0.0868 - accuracy: 0.9735\n",
      "Epoch 22/42\n",
      "10/10 [==============================] - 6s 616ms/step - loss: 0.0833 - accuracy: 0.9739\n",
      "Epoch 23/42\n",
      "10/10 [==============================] - 7s 719ms/step - loss: 0.0795 - accuracy: 0.9759\n",
      "Epoch 24/42\n",
      "10/10 [==============================] - 7s 683ms/step - loss: 0.0781 - accuracy: 0.9758\n",
      "Epoch 25/42\n",
      "10/10 [==============================] - 7s 723ms/step - loss: 0.0762 - accuracy: 0.9768\n",
      "Epoch 26/42\n",
      "10/10 [==============================] - 7s 688ms/step - loss: 0.0739 - accuracy: 0.9773\n",
      "Epoch 27/42\n",
      "10/10 [==============================] - 8s 804ms/step - loss: 0.0715 - accuracy: 0.9779\n",
      "Epoch 28/42\n",
      "10/10 [==============================] - 7s 688ms/step - loss: 0.0676 - accuracy: 0.9796\n",
      "Epoch 29/42\n",
      "10/10 [==============================] - 7s 710ms/step - loss: 0.0653 - accuracy: 0.9798\n",
      "Epoch 30/42\n",
      "10/10 [==============================] - 7s 659ms/step - loss: 0.0643 - accuracy: 0.9801\n",
      "Epoch 31/42\n",
      "10/10 [==============================] - 7s 704ms/step - loss: 0.0626 - accuracy: 0.9808\n",
      "Epoch 32/42\n",
      "10/10 [==============================] - 7s 712ms/step - loss: 0.0598 - accuracy: 0.9815\n",
      "Epoch 33/42\n",
      "10/10 [==============================] - 7s 703ms/step - loss: 0.0590 - accuracy: 0.9821\n",
      "Epoch 34/42\n",
      "10/10 [==============================] - 7s 667ms/step - loss: 0.0590 - accuracy: 0.9819\n",
      "Epoch 35/42\n",
      "10/10 [==============================] - 6s 635ms/step - loss: 0.0575 - accuracy: 0.9821\n",
      "Epoch 36/42\n",
      "10/10 [==============================] - 9s 949ms/step - loss: 0.0550 - accuracy: 0.9832\n",
      "Epoch 37/42\n",
      "10/10 [==============================] - 10s 969ms/step - loss: 0.0523 - accuracy: 0.9845\n",
      "Epoch 38/42\n",
      "10/10 [==============================] - 9s 937ms/step - loss: 0.0520 - accuracy: 0.9843\n",
      "Epoch 39/42\n",
      "10/10 [==============================] - 9s 856ms/step - loss: 0.0523 - accuracy: 0.9837\n",
      "Epoch 40/42\n",
      "10/10 [==============================] - 7s 706ms/step - loss: 0.0503 - accuracy: 0.9846\n",
      "Epoch 41/42\n",
      "10/10 [==============================] - 6s 615ms/step - loss: 0.0488 - accuracy: 0.9852\n",
      "Epoch 42/42\n",
      "10/10 [==============================] - 6s 596ms/step - loss: 0.0472 - accuracy: 0.9856\n"
     ]
    },
    {
     "data": {
      "text/plain": [
       "<tensorflow.python.keras.callbacks.History at 0x7f0e58241130>"
      ]
     },
     "execution_count": 9,
     "metadata": {},
     "output_type": "execute_result"
    }
   ],
   "source": [
    "model.fit(raw_data ,label_data, steps_per_epoch = 10, epochs = 42)"
   ]
  },
  {
   "cell_type": "code",
   "execution_count": 11,
   "metadata": {},
   "outputs": [
    {
     "name": "stdout",
     "output_type": "stream",
     "text": [
      "sample num:    0, data_idx: 36031\n",
      "sample num:    1, data_idx:  3416\n",
      "sample num:    2, data_idx: 31734\n",
      "sample num:    3, data_idx: 39860\n",
      "sample num:    4, data_idx: 31878\n",
      "sample num:    5, data_idx: 41533\n",
      "sample num:    6, data_idx:  1757\n",
      "sample num:    7, data_idx: 21482\n",
      "sample num:    8, data_idx: 26010\n",
      "sample num:    9, data_idx:  7009\n",
      "sample num:   10, data_idx: 40807\n",
      "sample num:   11, data_idx: 33787\n",
      "sample num:   12, data_idx: 15267\n",
      "sample num:   13, data_idx: 17718\n",
      "sample num:   14, data_idx:  7882\n",
      "sample num:   15, data_idx: 51668\n",
      "sample num:   16, data_idx:  1418\n",
      "sample num:   17, data_idx: 26658\n",
      "sample num:   18, data_idx: 29959\n",
      "sample num:   19, data_idx: 19267\n",
      "sample num:   20, data_idx:  4734\n",
      "sample num:   21, data_idx:  5247\n",
      "sample num:   22, data_idx: 49222\n",
      "sample num:   23, data_idx: 50919\n",
      "sample num:   24, data_idx: 20717\n",
      "sample num:   25, data_idx: 37067\n",
      "sample num:   26, data_idx: 25758\n",
      "sample num:   27, data_idx: 30570\n",
      "sample num:   28, data_idx: 14411\n",
      "sample num:   29, data_idx: 19427\n",
      "sample num:   30, data_idx: 51789\n",
      "sample num:   31, data_idx:  4363\n",
      "sample num:   32, data_idx: 34083\n",
      "sample num:   33, data_idx: 36491\n",
      "sample num:   34, data_idx:  8467\n",
      "sample num:   35, data_idx: 47430\n",
      "sample num:   36, data_idx: 34993\n",
      "sample num:   37, data_idx: 47391\n",
      "sample num:   38, data_idx: 16751\n",
      "sample num:   39, data_idx:  6911\n",
      "sample num:   40, data_idx: 23130\n",
      "sample num:   41, data_idx: 27342\n",
      "sample num:   42, data_idx: 37663\n",
      "sample num:   43, data_idx: 14728\n",
      "sample num:   44, data_idx: 38139\n",
      "sample num:   45, data_idx:  5968\n",
      "sample num:   46, data_idx: 18853\n",
      "sample num:   47, data_idx: 33972\n",
      "sample num:   48, data_idx: 41917\n",
      "sample num:   49, data_idx: 32154\n",
      "sample num:   50, data_idx: 48302\n",
      "sample num:   51, data_idx: 34136\n",
      "sample num:   52, data_idx:  3702\n",
      "sample num:   53, data_idx: 31733\n",
      "sample num:   54, data_idx: 11285\n",
      "sample num:   55, data_idx: 28746\n",
      "sample num:   56, data_idx: 53053\n",
      "sample num:   57, data_idx: 50710\n",
      "sample num:   58, data_idx: 21402\n",
      "sample num:   59, data_idx: 10849\n",
      "sample num:   60, data_idx:  3967\n",
      "sample num:   61, data_idx: 10861\n",
      "sample num:   62, data_idx:  2813\n",
      "sample num:   63, data_idx: 40284\n",
      "sample num:   64, data_idx: 18661\n",
      "sample num:   65, data_idx: 41660\n",
      "sample num:   66, data_idx: 45093\n",
      "sample num:   67, data_idx: 16230\n",
      "sample num:   68, data_idx: 41165\n",
      "sample num:   69, data_idx: 17414\n",
      "sample num:   70, data_idx: 20928\n",
      "sample num:   71, data_idx: 53384\n",
      "sample num:   72, data_idx: 43564\n",
      "sample num:   73, data_idx: 38583\n",
      "sample num:   74, data_idx: 50412\n",
      "sample num:   75, data_idx: 50009\n",
      "sample num:   76, data_idx: 31176\n",
      "sample num:   77, data_idx: 22390\n",
      "sample num:   78, data_idx: 27355\n",
      "sample num:   79, data_idx: 50253\n",
      "sample num:   80, data_idx:  8737\n",
      "sample num:   81, data_idx: 48349\n",
      "sample num:   82, data_idx: 45254\n",
      "sample num:   83, data_idx: 34888\n",
      "sample num:   84, data_idx: 37065\n",
      "sample num:   85, data_idx: 37809\n",
      "sample num:   86, data_idx: 50412\n",
      "sample num:   87, data_idx: 38332\n",
      "sample num:   88, data_idx: 39729\n",
      "sample num:   89, data_idx: 10202\n",
      "sample num:   90, data_idx: 37380\n",
      "sample num:   91, data_idx: 47668\n",
      "sample num:   92, data_idx: 46919\n",
      "sample num:   93, data_idx: 18096\n",
      "sample num:   94, data_idx: 15694\n",
      "sample num:   95, data_idx: 44943\n",
      "sample num:   96, data_idx: 51222\n",
      "sample num:   97, data_idx: 27076\n",
      "sample num:   98, data_idx: 38455\n",
      "sample num:   99, data_idx: 32532\n"
     ]
    }
   ],
   "source": [
    "from keras.models import Model\n",
    "import tensorflow as tf\n",
    "\n",
    "y = model.output\n",
    "\n",
    "row_idx = tf.range(tf.shape(y)[0])\n",
    "col_idx = tf.argmax(y, axis=1, output_type=tf.dtypes.int32)\n",
    "full_indices = tf.stack([row_idx, col_idx], axis=1)\n",
    "fx_tensors = tf.gather_nd(y, full_indices)\n",
    "\n",
    "x_tensors = model.trainable_weights\n",
    "\n",
    "num_samples = 100\n",
    "m = Model(inputs=model.input, outputs=fx_tensors)\n",
    "\n",
    "fisher_information = []\n",
    "for v in range(len(x_tensors)):\n",
    "    fisher_information.append(np.zeros(x_tensors[v].get_shape().as_list()).astype(np.float32))\n",
    "\n",
    "for i in range(num_samples):\n",
    "    data_idx = np.random.randint(raw_data.shape[0])\n",
    "    sampled_data = raw_data[data_idx:data_idx+1]\n",
    "    sampled_input_variables = [ sampled_data ]\n",
    "    print ('sample num: %4d, data_idx: %5d' % (i, data_idx))\n",
    "\n",
    "    with tf.GradientTape() as tape:\n",
    "        p = m(sampled_data)\n",
    "        lo = tf.math.log(p)\n",
    "\n",
    "    gradients = tape.gradient(lo, x_tensors)\n",
    "    derivatives = [g.numpy() for g in gradients]\n",
    "    prob = p.numpy()[0]\n",
    "    \n",
    "#     derivatives, prob = sess.run([tf.gradients(tf.log(fx_tensors), x_tensors), fx_tensors],\n",
    "#     feed_dict={t: v for t,v in zip(input_tensors, sampled_input_variables)})\n",
    "\n",
    "    for v in range(len(fisher_information)):\n",
    "        fisher_information[v] += np.square(derivatives[v]) * prob\n",
    "\n",
    "for v in range(len(fisher_information)):\n",
    "    fisher_information[v] /= num_samples"
   ]
  },
  {
   "cell_type": "code",
   "execution_count": 12,
   "metadata": {},
   "outputs": [
    {
     "data": {
      "text/plain": [
       "[(3, 3, 1, 8),\n",
       " (8,),\n",
       " (3, 3, 8, 16),\n",
       " (16,),\n",
       " (3, 3, 16, 32),\n",
       " (32,),\n",
       " (128, 128),\n",
       " (128,),\n",
       " (128, 256),\n",
       " (256,),\n",
       " (256, 10),\n",
       " (10,)]"
      ]
     },
     "execution_count": 12,
     "metadata": {},
     "output_type": "execute_result"
    }
   ],
   "source": [
    "[f.shape for f in fisher_information]"
   ]
  },
  {
   "cell_type": "code",
   "execution_count": 13,
   "metadata": {},
   "outputs": [
    {
     "data": {
      "text/plain": [
       "[(3, 3, 1, 8),\n",
       " (8,),\n",
       " (3, 3, 8, 16),\n",
       " (16,),\n",
       " (3, 3, 16, 32),\n",
       " (32,),\n",
       " (32, 128),\n",
       " (128,),\n",
       " (128, 256),\n",
       " (256,),\n",
       " (256, 10),\n",
       " (10,)]"
      ]
     },
     "execution_count": 13,
     "metadata": {},
     "output_type": "execute_result"
    }
   ],
   "source": [
    "[x.shape for x in a]"
   ]
  },
  {
   "cell_type": "code",
   "execution_count": 14,
   "metadata": {},
   "outputs": [
    {
     "data": {
      "text/plain": [
       "array([0.09329384, 0.00635268, 0.21328288, 0.02203721, 0.00545116,\n",
       "       0.20634949, 0.20256871, 0.01601085, 0.03703258, 0.00719558,\n",
       "       0.16314465, 0.02591867, 0.00555319, 0.15406756, 0.20536797,\n",
       "       0.01757046, 0.01349579, 0.00924439, 0.12533766, 0.0195181 ,\n",
       "       0.00439509, 0.09620187, 0.24805029, 0.06653478, 0.0987464 ,\n",
       "       0.01140031, 0.40100858, 0.02547149, 0.00777129, 0.18790865,\n",
       "       0.16311395, 0.08153813, 0.03322468, 0.02234618, 0.39997804,\n",
       "       0.01686398, 0.00878281, 0.1476535 , 0.16620012, 0.10399899,\n",
       "       0.00948218, 0.02726801, 0.33151662, 0.00231394, 0.00663873,\n",
       "       0.08042713, 0.15077482, 0.10263242, 0.05306567, 0.03711985,\n",
       "       0.4692518 , 0.02333011, 0.00697031, 0.17162181, 0.07232966,\n",
       "       0.24912134, 0.02918795, 0.04208536, 0.5145568 , 0.01043964,\n",
       "       0.02571356, 0.12620798, 0.06339548, 0.19742279, 0.02629333,\n",
       "       0.06734763, 0.5297031 , 0.00510034, 0.04518406, 0.0857207 ,\n",
       "       0.06242754, 0.13880678], dtype=float32)"
      ]
     },
     "execution_count": 14,
     "metadata": {},
     "output_type": "execute_result"
    }
   ],
   "source": [
    "fisher_information[0].flatten()"
   ]
  },
  {
   "cell_type": "code",
   "execution_count": 15,
   "metadata": {},
   "outputs": [
    {
     "data": {
      "image/png": "[encoded data removed]",
      "text/plain": [
       "<Figure size 432x288 with 1 Axes>"
      ]
     },
     "metadata": {
      "needs_background": "light"
     },
     "output_type": "display_data"
    }
   ],
   "source": [
    "# d = fisher_information[0].flatten()\n",
    "# index = np.arange(len(d))\n",
    "# plt.bar(index, d)\n",
    "# plt.ylabel('some numbers')\n",
    "# plt.show()\n",
    "\n",
    "d = [x.flatten() for x in fisher_information]\n",
    "d = np.concatenate(d)\n",
    "\n",
    "# d = a[0].flatten()\n",
    "# index = np.arange(len(d))\n",
    "# plt.bar(index, d)\n",
    "plt.plot(d)\n",
    "plt.ylabel('some numbers')\n",
    "plt.show()"
   ]
  },
  {
   "cell_type": "code",
   "execution_count": 17,
   "metadata": {},
   "outputs": [
    {
     "data": {
      "image/png": "[encoded data removed]",
      "text/plain": [
       "<Figure size 432x288 with 1 Axes>"
      ]
     },
     "metadata": {
      "needs_background": "light"
     },
     "output_type": "display_data"
    }
   ],
   "source": [
    "with open('mnist_fisher.npy', 'rb') as f:\n",
    "    a = np.load(f, allow_pickle=True, encoding = 'latin1')\n",
    "\n",
    "d = [x.flatten() for x in a]\n",
    "d = np.concatenate(d)\n",
    "\n",
    "# d = a[0].flatten()\n",
    "# index = np.arange(len(d))\n",
    "# plt.bar(index, d)\n",
    "plt.plot(d)\n",
    "plt.ylabel('some numbers')\n",
    "plt.show()"
   ]
  },
  {
   "cell_type": "code",
   "execution_count": null,
   "metadata": {},
   "outputs": [],
   "source": []
  }
 ],
 "metadata": {
  "kernelspec": {
   "display_name": "Python 3",
   "language": "python",
   "name": "python3"
  },
  "language_info": {
   "codemirror_mode": {
    "name": "ipython",
    "version": 3
   },
   "file_extension": ".py",
   "mimetype": "text/x-python",
   "name": "python",
   "nbconvert_exporter": "python",
   "pygments_lexer": "ipython3",
   "version": "3.8.6"
  }
 },
 "nbformat": 4,
 "nbformat_minor": 4
}
