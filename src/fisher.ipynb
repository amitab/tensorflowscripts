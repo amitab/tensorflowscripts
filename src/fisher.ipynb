{
 "cells": [
  {
   "cell_type": "code",
   "execution_count": 1,
   "metadata": {},
   "outputs": [],
   "source": [
    "import numpy as np # linear algebra\n",
    "import pandas as pd # data processing, CSV file I/O (e.g. pd.read_csv)\n",
    "import keras \n",
    "from keras.models import Sequential\n",
    "from keras.layers import Conv2D, Dense, MaxPool2D, Dropout, Flatten\n",
    "from keras.optimizers import Adam\n",
    "from keras.preprocessing.image import ImageDataGenerator\n",
    "from keras.callbacks import ReduceLROnPlateau\n",
    "from sklearn.model_selection import train_test_split\n",
    "import matplotlib.pyplot as plt\n",
    "import seaborn as sns\n",
    "\n",
    "import matplotlib.pyplot as plt\n",
    "# if using a Jupyter notebook, include:\n",
    "%matplotlib inline"
   ]
  },
  {
   "cell_type": "code",
   "execution_count": 2,
   "metadata": {},
   "outputs": [],
   "source": [
    "model = Sequential()\n",
    "model.add(Conv2D(filters=8, kernel_size=(3,3), padding='same', activation='relu', input_shape=(28, 28, 1)))\n",
    "model.add(MaxPool2D(strides=2))\n",
    "model.add(Conv2D(filters=16, kernel_size=(3,3), padding='valid', activation='relu'))\n",
    "model.add(MaxPool2D(strides=2))\n",
    "model.add(Conv2D(filters=32, kernel_size=(3,3), padding='valid', activation='relu'))\n",
    "model.add(MaxPool2D(strides=2))\n",
    "model.add(Flatten())\n",
    "model.add(Dense(128, activation='relu'))\n",
    "model.add(Dense(256, activation='relu'))\n",
    "model.add(Dense(10, activation='softmax'))"
   ]
  },
  {
   "cell_type": "code",
   "execution_count": 3,
   "metadata": {},
   "outputs": [
    {
     "name": "stdout",
     "output_type": "stream",
     "text": [
      "Model: \"sequential\"\n",
      "_________________________________________________________________\n",
      "Layer (type)                 Output Shape              Param #   \n",
      "=================================================================\n",
      "conv2d (Conv2D)              (None, 28, 28, 8)         80        \n",
      "_________________________________________________________________\n",
      "max_pooling2d (MaxPooling2D) (None, 14, 14, 8)         0         \n",
      "_________________________________________________________________\n",
      "conv2d_1 (Conv2D)            (None, 12, 12, 16)        1168      \n",
      "_________________________________________________________________\n",
      "max_pooling2d_1 (MaxPooling2 (None, 6, 6, 16)          0         \n",
      "_________________________________________________________________\n",
      "conv2d_2 (Conv2D)            (None, 4, 4, 32)          4640      \n",
      "_________________________________________________________________\n",
      "max_pooling2d_2 (MaxPooling2 (None, 2, 2, 32)          0         \n",
      "_________________________________________________________________\n",
      "flatten (Flatten)            (None, 128)               0         \n",
      "_________________________________________________________________\n",
      "dense (Dense)                (None, 128)               16512     \n",
      "_________________________________________________________________\n",
      "dense_1 (Dense)              (None, 256)               33024     \n",
      "_________________________________________________________________\n",
      "dense_2 (Dense)              (None, 10)                2570      \n",
      "=================================================================\n",
      "Total params: 57,994\n",
      "Trainable params: 57,994\n",
      "Non-trainable params: 0\n",
      "_________________________________________________________________\n"
     ]
    }
   ],
   "source": [
    "model.build()\n",
    "model.summary()"
   ]
  },
  {
   "cell_type": "code",
   "execution_count": 4,
   "metadata": {},
   "outputs": [],
   "source": [
    "from keras import backend as k"
   ]
  },
  {
   "cell_type": "code",
   "execution_count": 5,
   "metadata": {},
   "outputs": [
    {
     "data": {
      "text/plain": [
       "(55000, 28, 28, 1)"
      ]
     },
     "execution_count": 5,
     "metadata": {},
     "output_type": "execute_result"
    }
   ],
   "source": [
    "with open('mnist_raw_data.npy', 'rb') as f:\n",
    "    raw_data = np.load(f, allow_pickle=True, encoding = 'latin1')\n",
    "raw_data.shape"
   ]
  },
  {
   "cell_type": "code",
   "execution_count": 6,
   "metadata": {},
   "outputs": [],
   "source": [
    "model.compile(optimizer = 'adam', loss = 'categorical_crossentropy', metrics = ['accuracy'])"
   ]
  },
  {
   "cell_type": "code",
   "execution_count": 7,
   "metadata": {},
   "outputs": [
    {
     "data": {
      "text/plain": [
       "(55000, 10)"
      ]
     },
     "execution_count": 7,
     "metadata": {},
     "output_type": "execute_result"
    }
   ],
   "source": [
    "with open('mnist_label_data.npy', 'rb') as f:\n",
    "    label_data = np.load(f, allow_pickle=True, encoding = 'latin1')\n",
    "label_data.shape"
   ]
  },
  {
   "cell_type": "code",
   "execution_count": null,
   "metadata": {},
   "outputs": [
    {
     "name": "stdout",
     "output_type": "stream",
     "text": [
      "Epoch 1/42\n",
      "10/10 [==============================] - 4s 443ms/step - loss: 2.2296 - accuracy: 0.4067\n",
      "Epoch 2/42\n",
      "10/10 [==============================] - 5s 476ms/step - loss: 1.8092 - accuracy: 0.6850\n",
      "Epoch 3/42\n",
      "10/10 [==============================] - 5s 475ms/step - loss: 0.9982 - accuracy: 0.7815\n",
      "Epoch 4/42\n",
      "10/10 [==============================] - 5s 504ms/step - loss: 0.5209 - accuracy: 0.8483\n",
      "Epoch 5/42\n",
      "10/10 [==============================] - 5s 523ms/step - loss: 0.3535 - accuracy: 0.8929\n",
      "Epoch 6/42\n",
      "10/10 [==============================] - 5s 535ms/step - loss: 0.2719 - accuracy: 0.9194\n",
      "Epoch 7/42\n",
      "10/10 [==============================] - 5s 526ms/step - loss: 0.2264 - accuracy: 0.9329\n",
      "Epoch 8/42\n",
      "10/10 [==============================] - 5s 525ms/step - loss: 0.1957 - accuracy: 0.9416\n",
      "Epoch 9/42\n",
      "10/10 [==============================] - 5s 541ms/step - loss: 0.1742 - accuracy: 0.9478\n",
      "Epoch 10/42\n",
      "10/10 [==============================] - 5s 537ms/step - loss: 0.1608 - accuracy: 0.9513\n",
      "Epoch 11/42\n",
      "10/10 [==============================] - 5s 545ms/step - loss: 0.1477 - accuracy: 0.9542\n",
      "Epoch 12/42\n",
      "10/10 [==============================] - 5s 537ms/step - loss: 0.1342 - accuracy: 0.9595\n",
      "Epoch 13/42\n",
      "10/10 [==============================] - 5s 539ms/step - loss: 0.1263 - accuracy: 0.9615\n",
      "Epoch 14/42\n",
      "10/10 [==============================] - 6s 574ms/step - loss: 0.1190 - accuracy: 0.9636\n",
      "Epoch 15/42\n",
      "10/10 [==============================] - 6s 564ms/step - loss: 0.1137 - accuracy: 0.9652\n",
      "Epoch 16/42\n",
      "10/10 [==============================] - 6s 576ms/step - loss: 0.1085 - accuracy: 0.9666\n",
      "Epoch 17/42\n",
      "10/10 [==============================] - 6s 617ms/step - loss: 0.1023 - accuracy: 0.9685\n",
      "Epoch 18/42\n",
      "10/10 [==============================] - 7s 683ms/step - loss: 0.0965 - accuracy: 0.9703\n",
      "Epoch 19/42\n",
      "10/10 [==============================] - 6s 611ms/step - loss: 0.0925 - accuracy: 0.9720\n",
      "Epoch 20/42\n",
      "10/10 [==============================] - 6s 596ms/step - loss: 0.0888 - accuracy: 0.9725\n",
      "Epoch 21/42\n",
      "10/10 [==============================] - 6s 596ms/step - loss: 0.0868 - accuracy: 0.9735\n",
      "Epoch 22/42\n",
      "10/10 [==============================] - 6s 616ms/step - loss: 0.0833 - accuracy: 0.9739\n",
      "Epoch 23/42\n",
      "10/10 [==============================] - 7s 719ms/step - loss: 0.0795 - accuracy: 0.9759\n",
      "Epoch 24/42\n",
      "10/10 [==============================] - 7s 683ms/step - loss: 0.0781 - accuracy: 0.9758\n",
      "Epoch 25/42\n",
      "10/10 [==============================] - 7s 723ms/step - loss: 0.0762 - accuracy: 0.9768\n",
      "Epoch 26/42\n",
      "10/10 [==============================] - 7s 688ms/step - loss: 0.0739 - accuracy: 0.9773\n",
      "Epoch 27/42\n",
      "10/10 [==============================] - 8s 804ms/step - loss: 0.0715 - accuracy: 0.9779\n",
      "Epoch 28/42\n",
      "10/10 [==============================] - 7s 688ms/step - loss: 0.0676 - accuracy: 0.9796\n",
      "Epoch 29/42\n",
      "10/10 [==============================] - 7s 710ms/step - loss: 0.0653 - accuracy: 0.9798\n",
      "Epoch 30/42\n",
      "10/10 [==============================] - 7s 659ms/step - loss: 0.0643 - accuracy: 0.9801\n",
      "Epoch 31/42\n",
      "10/10 [==============================] - 7s 704ms/step - loss: 0.0626 - accuracy: 0.9808\n",
      "Epoch 32/42\n",
      "10/10 [==============================] - 7s 712ms/step - loss: 0.0598 - accuracy: 0.9815\n",
      "Epoch 33/42\n",
      "10/10 [==============================] - 7s 703ms/step - loss: 0.0590 - accuracy: 0.9821\n",
      "Epoch 34/42\n",
      "10/10 [==============================] - 7s 667ms/step - loss: 0.0590 - accuracy: 0.9819\n",
      "Epoch 35/42\n",
      "10/10 [==============================] - 6s 635ms/step - loss: 0.0575 - accuracy: 0.9821\n",
      "Epoch 36/42\n",
      "10/10 [==============================] - 9s 949ms/step - loss: 0.0550 - accuracy: 0.9832\n",
      "Epoch 37/42\n",
      "10/10 [==============================] - 10s 969ms/step - loss: 0.0523 - accuracy: 0.9845\n",
      "Epoch 38/42\n",
      "10/10 [==============================] - 9s 937ms/step - loss: 0.0520 - accuracy: 0.9843\n",
      "Epoch 39/42\n",
      "10/10 [==============================] - 9s 856ms/step - loss: 0.0523 - accuracy: 0.9837\n",
      "Epoch 40/42\n",
      "10/10 [==============================] - 7s 706ms/step - loss: 0.0503 - accuracy: 0.9846\n",
      "Epoch 41/42\n",
      "10/10 [==============================] - 6s 615ms/step - loss: 0.0488 - accuracy: 0.9852\n",
      "Epoch 42/42\n"
     ]
    }
   ],
   "source": [
    "model.fit(raw_data ,label_data, steps_per_epoch = 10, epochs = 42)"
   ]
  },
  {
   "cell_type": "code",
   "execution_count": 67,
   "metadata": {},
   "outputs": [
    {
     "name": "stdout",
     "output_type": "stream",
     "text": [
      "sample num:    0, data_idx: 16672\n",
      "sample num:    1, data_idx: 20374\n",
      "sample num:    2, data_idx: 37484\n",
      "sample num:    3, data_idx: 37840\n",
      "sample num:    4, data_idx: 28963\n",
      "sample num:    5, data_idx: 52219\n",
      "sample num:    6, data_idx: 31463\n",
      "sample num:    7, data_idx: 52237\n",
      "sample num:    8, data_idx: 43029\n",
      "sample num:    9, data_idx: 41118\n",
      "sample num:   10, data_idx: 47181\n",
      "sample num:   11, data_idx:  4486\n",
      "sample num:   12, data_idx: 22110\n",
      "sample num:   13, data_idx: 11609\n",
      "sample num:   14, data_idx: 19336\n",
      "sample num:   15, data_idx: 18993\n",
      "sample num:   16, data_idx:  7952\n",
      "sample num:   17, data_idx: 45953\n",
      "sample num:   18, data_idx: 27458\n",
      "sample num:   19, data_idx: 37805\n",
      "sample num:   20, data_idx: 29758\n",
      "sample num:   21, data_idx: 30809\n",
      "sample num:   22, data_idx:  9999\n",
      "sample num:   23, data_idx:  9485\n",
      "sample num:   24, data_idx: 31084\n",
      "sample num:   25, data_idx: 49378\n",
      "sample num:   26, data_idx: 20180\n",
      "sample num:   27, data_idx: 20549\n",
      "sample num:   28, data_idx:  5758\n",
      "sample num:   29, data_idx:  2768\n",
      "sample num:   30, data_idx: 41080\n",
      "sample num:   31, data_idx:  3977\n",
      "sample num:   32, data_idx:  6576\n",
      "sample num:   33, data_idx: 43458\n",
      "sample num:   34, data_idx: 25539\n",
      "sample num:   35, data_idx: 46733\n",
      "sample num:   36, data_idx: 16158\n",
      "sample num:   37, data_idx: 43357\n",
      "sample num:   38, data_idx: 36768\n",
      "sample num:   39, data_idx: 49546\n",
      "sample num:   40, data_idx: 26652\n",
      "sample num:   41, data_idx:  9801\n",
      "sample num:   42, data_idx: 18717\n",
      "sample num:   43, data_idx: 50179\n",
      "sample num:   44, data_idx:  2580\n",
      "sample num:   45, data_idx:  7289\n",
      "sample num:   46, data_idx: 40187\n",
      "sample num:   47, data_idx: 47210\n",
      "sample num:   48, data_idx: 22972\n",
      "sample num:   49, data_idx: 30560\n",
      "sample num:   50, data_idx:  5029\n",
      "sample num:   51, data_idx: 31082\n",
      "sample num:   52, data_idx: 41102\n",
      "sample num:   53, data_idx: 40999\n",
      "sample num:   54, data_idx: 23853\n",
      "sample num:   55, data_idx:  6189\n",
      "sample num:   56, data_idx:  2794\n",
      "sample num:   57, data_idx: 39349\n",
      "sample num:   58, data_idx: 38644\n",
      "sample num:   59, data_idx: 46758\n",
      "sample num:   60, data_idx: 12478\n",
      "sample num:   61, data_idx: 49870\n",
      "sample num:   62, data_idx: 26786\n",
      "sample num:   63, data_idx: 18937\n",
      "sample num:   64, data_idx: 42544\n",
      "sample num:   65, data_idx:  3932\n",
      "sample num:   66, data_idx: 19529\n",
      "sample num:   67, data_idx: 19169\n",
      "sample num:   68, data_idx: 51497\n",
      "sample num:   69, data_idx: 38213\n",
      "sample num:   70, data_idx: 47526\n",
      "sample num:   71, data_idx: 35155\n",
      "sample num:   72, data_idx: 13494\n",
      "sample num:   73, data_idx: 19784\n",
      "sample num:   74, data_idx: 32986\n",
      "sample num:   75, data_idx: 24267\n",
      "sample num:   76, data_idx: 41077\n",
      "sample num:   77, data_idx: 30090\n",
      "sample num:   78, data_idx: 48312\n",
      "sample num:   79, data_idx: 27345\n",
      "sample num:   80, data_idx: 15026\n",
      "sample num:   81, data_idx:  6675\n",
      "sample num:   82, data_idx: 47244\n",
      "sample num:   83, data_idx:  9073\n",
      "sample num:   84, data_idx: 20363\n",
      "sample num:   85, data_idx: 52694\n",
      "sample num:   86, data_idx: 31744\n",
      "sample num:   87, data_idx: 42612\n",
      "sample num:   88, data_idx: 14553\n",
      "sample num:   89, data_idx: 10058\n",
      "sample num:   90, data_idx:  5340\n",
      "sample num:   91, data_idx:  7054\n",
      "sample num:   92, data_idx: 38421\n",
      "sample num:   93, data_idx:  6743\n",
      "sample num:   94, data_idx: 32088\n",
      "sample num:   95, data_idx: 51135\n",
      "sample num:   96, data_idx: 41826\n",
      "sample num:   97, data_idx: 37240\n",
      "sample num:   98, data_idx: 30530\n",
      "sample num:   99, data_idx: 40715\n"
     ]
    }
   ],
   "source": [
    "from keras.models import Model\n",
    "import tensorflow as tf\n",
    "\n",
    "row_idx = tf.range(tf.shape(y)[0])\n",
    "col_idx = tf.argmax(y, axis=1, output_type=tf.dtypes.int32)\n",
    "full_indices = tf.stack([row_idx, col_idx], axis=1)\n",
    "fx_tensors = tf.gather_nd(y, full_indices)\n",
    "\n",
    "x_tensors = model.trainable_weights\n",
    "\n",
    "num_samples = 100\n",
    "m = Model(inputs=model.input, outputs=fx_tensors)\n",
    "\n",
    "fisher_information = []\n",
    "for v in range(len(x_tensors)):\n",
    "    fisher_information.append(np.zeros(x_tensors[v].get_shape().as_list()).astype(np.float32))\n",
    "\n",
    "for i in range(num_samples):\n",
    "    data_idx = np.random.randint(raw_data.shape[0])\n",
    "    sampled_data = raw_data[data_idx:data_idx+1]\n",
    "    sampled_input_variables = [ sampled_data ]\n",
    "    print ('sample num: %4d, data_idx: %5d' % (i, data_idx))\n",
    "\n",
    "    with tf.GradientTape() as tape:\n",
    "        p = m(sampled_data)\n",
    "        lo = tf.math.log(p)\n",
    "\n",
    "    gradients = tape.gradient(lo, x_tensors)\n",
    "    derivatives = [g.numpy() for g in gradients]\n",
    "    prob = p.numpy()[0]\n",
    "    \n",
    "#     derivatives, prob = sess.run([tf.gradients(tf.log(fx_tensors), x_tensors), fx_tensors],\n",
    "#     feed_dict={t: v for t,v in zip(input_tensors, sampled_input_variables)})\n",
    "\n",
    "    for v in range(len(fisher_information)):\n",
    "        fisher_information[v] += np.square(derivatives[v]) * prob\n",
    "\n",
    "for v in range(len(fisher_information)):\n",
    "    fisher_information[v] /= num_samples"
   ]
  },
  {
   "cell_type": "code",
   "execution_count": 68,
   "metadata": {},
   "outputs": [
    {
     "data": {
      "text/plain": [
       "[(3, 3, 1, 8),\n",
       " (8,),\n",
       " (3, 3, 8, 16),\n",
       " (16,),\n",
       " (3, 3, 16, 32),\n",
       " (32,),\n",
       " (128, 128),\n",
       " (128,),\n",
       " (128, 256),\n",
       " (256,),\n",
       " (256, 10),\n",
       " (10,)]"
      ]
     },
     "execution_count": 68,
     "metadata": {},
     "output_type": "execute_result"
    }
   ],
   "source": [
    "[f.shape for f in fisher_information]"
   ]
  },
  {
   "cell_type": "code",
   "execution_count": 69,
   "metadata": {},
   "outputs": [
    {
     "data": {
      "text/plain": [
       "[(3, 3, 1, 8),\n",
       " (8,),\n",
       " (3, 3, 8, 16),\n",
       " (16,),\n",
       " (3, 3, 16, 32),\n",
       " (32,),\n",
       " (32, 128),\n",
       " (128,),\n",
       " (128, 256),\n",
       " (256,),\n",
       " (256, 10),\n",
       " (10,)]"
      ]
     },
     "execution_count": 69,
     "metadata": {},
     "output_type": "execute_result"
    }
   ],
   "source": [
    "[x.shape for x in a]"
   ]
  },
  {
   "cell_type": "code",
   "execution_count": 70,
   "metadata": {},
   "outputs": [
    {
     "data": {
      "text/plain": [
       "array([1.4699051e-02, 7.5638302e-02, 5.6425475e-02, 1.0486510e-02,\n",
       "       5.5230069e-03, 9.1721676e-03, 4.8164261e-04, 5.1491447e-02,\n",
       "       1.9100659e-02, 6.6768639e-02, 3.2465328e-02, 8.3220359e-03,\n",
       "       6.7139631e-03, 7.3456224e-03, 2.3537530e-05, 5.7678919e-02,\n",
       "       1.8333539e-02, 2.5935108e-02, 8.7260716e-03, 1.8232525e-03,\n",
       "       1.3666743e-02, 1.3053213e-02, 1.2163010e-03, 6.9284648e-02,\n",
       "       1.7563013e-02, 9.4289608e-02, 3.5580207e-02, 1.9644177e-02,\n",
       "       1.8189165e-03, 4.7282670e-03, 2.2406802e-04, 2.8935000e-02,\n",
       "       1.3582090e-02, 6.5370791e-02, 5.3312145e-03, 6.9503947e-03,\n",
       "       6.8208855e-03, 6.1835544e-03, 1.2908329e-03, 3.2550577e-02,\n",
       "       1.2802568e-02, 2.2067869e-02, 1.7868541e-04, 6.9947257e-03,\n",
       "       1.2324326e-02, 1.1394608e-02, 1.3780791e-02, 5.1920995e-02,\n",
       "       2.4086516e-02, 6.9588035e-02, 1.2175275e-02, 2.2481047e-02,\n",
       "       2.6491967e-03, 6.1663077e-03, 3.1376278e-03, 1.7584562e-02,\n",
       "       2.5841910e-02, 4.7983274e-02, 5.3298735e-04, 1.5533375e-02,\n",
       "       3.4625542e-03, 5.4457593e-03, 1.0673241e-02, 2.8005185e-02,\n",
       "       2.1187739e-02, 2.5456835e-02, 1.4061153e-04, 1.4022240e-02,\n",
       "       8.8853994e-03, 9.1638137e-03, 1.5680000e-02, 3.2540150e-02],\n",
       "      dtype=float32)"
      ]
     },
     "execution_count": 70,
     "metadata": {},
     "output_type": "execute_result"
    }
   ],
   "source": [
    "fisher_information[0].flatten()"
   ]
  },
  {
   "cell_type": "code",
   "execution_count": 98,
   "metadata": {},
   "outputs": [
    {
     "data": {
      "image/png": "[encoded data removed]",
      "text/plain": [
       "<Figure size 432x288 with 1 Axes>"
      ]
     },
     "metadata": {
      "needs_background": "light"
     },
     "output_type": "display_data"
    }
   ],
   "source": [
    "# d = fisher_information[0].flatten()\n",
    "# index = np.arange(len(d))\n",
    "# plt.bar(index, d)\n",
    "# plt.ylabel('some numbers')\n",
    "# plt.show()\n",
    "\n",
    "d = [x.flatten() for x in fisher_information]\n",
    "d = np.concatenate(d)\n",
    "\n",
    "# d = a[0].flatten()\n",
    "# index = np.arange(len(d))\n",
    "# plt.bar(index, d)\n",
    "plt.plot(d)\n",
    "plt.ylabel('some numbers')\n",
    "plt.show()"
   ]
  },
  {
   "cell_type": "code",
   "execution_count": 8,
   "metadata": {},
   "outputs": [
    {
     "data": {
      "image/png": "[encoded data removed]",
      "text/plain": [
       "<Figure size 432x288 with 1 Axes>"
      ]
     },
     "metadata": {
      "needs_background": "light"
     },
     "output_type": "display_data"
    }
   ],
   "source": [
    "with open('mnist_network_fisher.npy', 'rb') as f:\n",
    "    a = np.load(f, allow_pickle=True, encoding = 'latin1')\n",
    "\n",
    "d = [x.flatten() for x in a]\n",
    "d = np.concatenate(d)\n",
    "\n",
    "# d = a[0].flatten()\n",
    "# index = np.arange(len(d))\n",
    "# plt.bar(index, d)\n",
    "plt.plot(d)\n",
    "plt.ylabel('some numbers')\n",
    "plt.show()"
   ]
  },
  {
   "cell_type": "code",
   "execution_count": null,
   "metadata": {},
   "outputs": [],
   "source": []
  }
 ],
 "metadata": {
  "kernelspec": {
   "display_name": "Python 3",
   "language": "python",
   "name": "python3"
  },
  "language_info": {
   "codemirror_mode": {
    "name": "ipython",
    "version": 3
   },
   "file_extension": ".py",
   "mimetype": "text/x-python",
   "name": "python",
   "nbconvert_exporter": "python",
   "pygments_lexer": "ipython3",
   "version": "3.8.6"
  }
 },
 "nbformat": 4,
 "nbformat_minor": 4
}
