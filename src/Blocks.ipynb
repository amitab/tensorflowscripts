{
 "cells": [
  {
   "cell_type": "code",
   "execution_count": 57,
   "metadata": {},
   "outputs": [],
   "source": [
    "import math\n",
    "import numpy as np\n",
    "\n",
    "def split(array, nrows, ncols):\n",
    "    \"\"\"Split a matrix into sub-matrices.\"\"\"\n",
    "    r, h = array.shape\n",
    "    if r % nrows != 0:\n",
    "        padding = (math.ceil(r / nrows) * nrows) - r\n",
    "        array = np.vstack((array, np.zeros((padding, h))))\n",
    "        r, h = array.shape\n",
    "    if h % ncols != 0:\n",
    "        padding = (math.ceil(h / ncols) * ncols) - h\n",
    "        array = np.hstack((array, np.zeros((r, padding))))\n",
    "        r, h = array.shape\n",
    "#     print(array.shape)\n",
    "    num_x_blocks = math.ceil(r / float(nrows))\n",
    "    num_y_blocks = math.ceil(h / float(ncols))\n",
    "    \n",
    "    rows = np.vsplit(array, num_x_blocks)\n",
    "    return [np.array(np.hsplit(row, num_y_blocks)) for row in rows]  \n",
    "#     chunks = array.reshape(h//nrows, nrows, -1, ncols).swapaxes(1, 2).reshape(-1, nrows, ncols)\n",
    "#     return np.split(chunks, num_x_blocks)\n",
    "\n",
    "def gather_blocks_to_pages(splits, num_elem_per_page):\n",
    "    blocks = np.concatenate(splits)\n",
    "    pages = []\n",
    "    i = 0\n",
    "\n",
    "    while i < len(blocks):\n",
    "        count = 0\n",
    "        page = []\n",
    "        while i < len(blocks) and count + blocks[i].shape[0] * blocks[i].shape[1] <= num_elem_per_page:\n",
    "            page.append(blocks[i])\n",
    "            count += blocks[i].shape[0] * blocks[i].shape[1]\n",
    "            i += 1\n",
    "        pages.append(page)\n",
    "        print(\"Adding {} elems to page {}\".format(count, len(pages) - 1))\n",
    "    return pages\n",
    "\n",
    "# So we assume that if one page as lesser blocks than the other,\n",
    "# We should see if the smaller one matches the bigger one from\n",
    "# the start, and not anywhere in between\n",
    "def page_similarity(ps1, ps2):\n",
    "    sim = np.zeros((len(ps1), len(ps2)))\n",
    "    \n",
    "    for i, p1 in enumerate(ps1):\n",
    "        for j, p2 in enumerate(ps2):\n",
    "            k = min(len(p1), len(p2))\n",
    "            a = np.array(p1[:k])\n",
    "            b = np.array(p2[:k])\n",
    "            c = np.count_nonzero(np.absolute(a - b) <= 0.01)\n",
    "            sim[i][j] = c / a.size\n",
    "    \n",
    "    return sim\n",
    "            \n",
    "\n",
    "def merge_blocks(blocks, num_blocks_x, num_blocks_y, x, y):\n",
    "    b_x, b_y = blocks[0].shape\n",
    "    t_x, t_y = (b_x * num_blocks_x, b_y * num_blocks_y,)\n",
    "    rows = [np.hstack(blocks[i*num_blocks_y:i*num_blocks_y+num_blocks_y]) for i in range(num_blocks_x)]\n",
    "    matrix = np.vstack(rows)\n",
    "    assert matrix.shape[0] == t_x\n",
    "    r_x = t_x - x\n",
    "    r_y = t_y - y\n",
    "    if r_x == 0 and r_y == 0:\n",
    "        return matrix\n",
    "    elif r_x == 0:\n",
    "        return matrix[:,:-r_y]\n",
    "    elif r_y == 0:\n",
    "        return matrix[:-r_x,:]\n",
    "    else:\n",
    "        return matrix[:-r_x, :-r_y]\n",
    "\n",
    "# merge_blocks(x, 2, 2, 4, 4)\n",
    "# x[0]\n",
    "\n",
    "def pages_to_blocks(pages):\n",
    "    blocks = []\n",
    "    for p in pages:\n",
    "        blocks.extend(p)\n",
    "    return blocks\n",
    "\n",
    "def merge_pages(p1, p2):\n",
    "    ps = []\n",
    "    for i, p in enumerate(p1):\n",
    "        if i >= len(p2):\n",
    "            ps.append(np.array(p))\n",
    "        else:\n",
    "            ps.append((p + p2[i]) / 2)\n",
    "    return ps\n",
    "\n",
    "def combine_similar_pages(ps1, ps2, sim_scores, threshold=0.9):\n",
    "    new_ps1 = [None] * len(ps1)\n",
    "    new_ps2 = [None] * len(ps2)\n",
    "    \n",
    "    for ps1_idx, scores in enumerate(sim_scores):\n",
    "        if np.max(scores) >= threshold:\n",
    "            ps2_idx = np.argmax(scores)\n",
    "            print(\"PS1: Merging {} and {}\".format(ps1_idx, ps2_idx))\n",
    "            new_ps1[ps1_idx] = merge_pages(ps1[ps1_idx], ps2[ps2_idx])\n",
    "            new_ps2[ps2_idx] = ps1_idx\n",
    "        else:\n",
    "            # No need to make new copies here since we should not be using ps1 or ps2 anymore\n",
    "            new_ps1[ps1_idx] = ps1[ps1_idx]\n",
    "\n",
    "    for ps2_idx in range(len(ps2)):\n",
    "        if new_ps2[ps2_idx] is not None:\n",
    "            ps1_idx = new_ps2[ps2_idx]\n",
    "            print(\"PS2: Merging {} and {}\".format(ps2_idx, ps1_idx))\n",
    "            new_ps2[ps2_idx] = merge_pages(ps2[ps2_idx], ps1[ps1_idx])\n",
    "        else:\n",
    "            # No need to make new copies here since we should not be using ps1 or ps2 anymore\n",
    "            new_ps2[ps2_idx] = ps2[ps2_idx]\n",
    "\n",
    "    return new_ps1, new_ps2"
   ]
  },
  {
   "cell_type": "code",
   "execution_count": 58,
   "metadata": {},
   "outputs": [
    {
     "data": {
      "text/plain": [
       "[array([[[ 1.,  2.,  3.,  4.],\n",
       "         [ 5.,  6.,  7.,  8.],\n",
       "         [ 9., 12., 11., 12.],\n",
       "         [13., 14., 15., 16.]],\n",
       " \n",
       "        [[ 9.,  0.,  0.,  0.],\n",
       "         [ 2.,  0.,  0.,  0.],\n",
       "         [ 9.,  0.,  0.,  0.],\n",
       "         [ 9.,  0.,  0.,  0.]]])]"
      ]
     },
     "execution_count": 58,
     "metadata": {},
     "output_type": "execute_result"
    }
   ],
   "source": [
    "j = np.array([\n",
    "    [1,2,3,4,9],\n",
    "    [5,6,7,8,2],\n",
    "    [9,12,11,12, 9],\n",
    "    [13,14,15,16, 9]\n",
    "])\n",
    "k = np.array([\n",
    "    [1,2,3,12, 9],\n",
    "    [5,6,7,18,2],\n",
    "    [9,10,11,12,9],\n",
    "    [13,14,15,16,9]\n",
    "])\n",
    "\n",
    "m, n = j.shape\n",
    "# print(j.shape)\n",
    "x = split(j, 4, 4)\n",
    "bx, by = len(x), x[0].shape[0]\n",
    "x\n",
    "# x = pages_to_blocks(ps1)\n",
    "# merge_blocks(x, bx, by, m, n)"
   ]
  },
  {
   "cell_type": "code",
   "execution_count": 59,
   "metadata": {},
   "outputs": [
    {
     "data": {
      "text/plain": [
       "[array([[[ 1.,  2.,  3., 12.],\n",
       "         [ 5.,  6.,  7., 18.],\n",
       "         [ 9., 10., 11., 12.],\n",
       "         [13., 14., 15., 16.]],\n",
       " \n",
       "        [[ 9.,  0.,  0.,  0.],\n",
       "         [ 2.,  0.,  0.,  0.],\n",
       "         [ 9.,  0.,  0.,  0.],\n",
       "         [ 9.,  0.,  0.,  0.]]])]"
      ]
     },
     "execution_count": 59,
     "metadata": {},
     "output_type": "execute_result"
    }
   ],
   "source": [
    "y = split(k, 4, 4)\n",
    "bx, by = len(y), y[0].shape[0]\n",
    "y"
   ]
  },
  {
   "cell_type": "code",
   "execution_count": 60,
   "metadata": {},
   "outputs": [
    {
     "name": "stdout",
     "output_type": "stream",
     "text": [
      "Adding 16 elems to page 0\n",
      "Adding 16 elems to page 1\n",
      "Adding 16 elems to page 0\n",
      "Adding 16 elems to page 1\n",
      "[[array([[ 1.,  2.,  3.,  4.],\n",
      "       [ 5.,  6.,  7.,  8.],\n",
      "       [ 9., 12., 11., 12.],\n",
      "       [13., 14., 15., 16.]])], [array([[9., 0., 0., 0.],\n",
      "       [2., 0., 0., 0.],\n",
      "       [9., 0., 0., 0.],\n",
      "       [9., 0., 0., 0.]])]]\n",
      "[[array([[ 1.,  2.,  3., 12.],\n",
      "       [ 5.,  6.,  7., 18.],\n",
      "       [ 9., 10., 11., 12.],\n",
      "       [13., 14., 15., 16.]])], [array([[9., 0., 0., 0.],\n",
      "       [2., 0., 0., 0.],\n",
      "       [9., 0., 0., 0.],\n",
      "       [9., 0., 0., 0.]])]]\n",
      "[[0.8125 0.0625]\n",
      " [0.0625 1.    ]]\n"
     ]
    }
   ],
   "source": [
    "ps1 = gather_blocks_to_pages(x, 16) # ~1MB 16 bytes * 63725\n",
    "ps2 = gather_blocks_to_pages(y, 16) # ~1MB 16 bytes * 63725\n",
    "\n",
    "print(ps1)\n",
    "print(ps2)\n",
    "\n",
    "sim = page_similarity(ps1, ps2)\n",
    "print(sim)"
   ]
  },
  {
   "cell_type": "code",
   "execution_count": 61,
   "metadata": {},
   "outputs": [
    {
     "name": "stdout",
     "output_type": "stream",
     "text": [
      "PS1: Merging 1 and 1\n",
      "PS2: Merging 1 and 1\n"
     ]
    }
   ],
   "source": [
    "nps1, nps2 = combine_similar_pages(ps1, ps2, sim)"
   ]
  },
  {
   "cell_type": "code",
   "execution_count": 62,
   "metadata": {},
   "outputs": [
    {
     "name": "stdout",
     "output_type": "stream",
     "text": [
      "[[array([[ 1.,  2.,  3.,  4.],\n",
      "       [ 5.,  6.,  7.,  8.],\n",
      "       [ 9., 12., 11., 12.],\n",
      "       [13., 14., 15., 16.]])], [array([[9., 0., 0., 0.],\n",
      "       [2., 0., 0., 0.],\n",
      "       [9., 0., 0., 0.],\n",
      "       [9., 0., 0., 0.]])]]\n",
      "[[array([[ 1.,  2.,  3., 12.],\n",
      "       [ 5.,  6.,  7., 18.],\n",
      "       [ 9., 10., 11., 12.],\n",
      "       [13., 14., 15., 16.]])], [array([[9., 0., 0., 0.],\n",
      "       [2., 0., 0., 0.],\n",
      "       [9., 0., 0., 0.],\n",
      "       [9., 0., 0., 0.]])]]\n"
     ]
    }
   ],
   "source": [
    "print(nps1)\n",
    "print(nps2)"
   ]
  },
  {
   "cell_type": "code",
   "execution_count": 64,
   "metadata": {},
   "outputs": [
    {
     "data": {
      "text/plain": [
       "array([[ 1.,  2.,  3.,  4.,  9.],\n",
       "       [ 5.,  6.,  7.,  8.,  2.],\n",
       "       [ 9., 12., 11., 12.,  9.],\n",
       "       [13., 14., 15., 16.,  9.]])"
      ]
     },
     "execution_count": 64,
     "metadata": {},
     "output_type": "execute_result"
    }
   ],
   "source": [
    "wb1 = pages_to_blocks(nps1)\n",
    "merge_blocks(wb1, bx, by, m, n)"
   ]
  },
  {
   "cell_type": "code",
   "execution_count": null,
   "metadata": {},
   "outputs": [],
   "source": []
  }
 ],
 "metadata": {
  "kernelspec": {
   "display_name": "Python 3",
   "language": "python",
   "name": "python3"
  },
  "language_info": {
   "codemirror_mode": {
    "name": "ipython",
    "version": 3
   },
   "file_extension": ".py",
   "mimetype": "text/x-python",
   "name": "python",
   "nbconvert_exporter": "python",
   "pygments_lexer": "ipython3",
   "version": "3.8.6"
  }
 },
 "nbformat": 4,
 "nbformat_minor": 4
}
