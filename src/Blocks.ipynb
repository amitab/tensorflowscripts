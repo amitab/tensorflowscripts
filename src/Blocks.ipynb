{
 "cells": [
  {
   "cell_type": "code",
   "execution_count": 31,
   "metadata": {},
   "outputs": [],
   "source": [
    "import math\n",
    "import numpy as np\n",
    "\n",
    "def split(array, nrows, ncols):\n",
    "    \"\"\"Split a matrix into sub-matrices.\"\"\"\n",
    "    r, h = array.shape\n",
    "    if r % nrows != 0:\n",
    "        padding = (math.ceil(r / nrows) * nrows) - r\n",
    "        array = np.vstack((array, np.zeros((padding, h))))\n",
    "        r, h = array.shape\n",
    "    if h % ncols != 0:\n",
    "        padding = (math.ceil(h / ncols) * ncols) - h\n",
    "        array = np.hstack((array, np.zeros((r, padding))))\n",
    "        r, h = array.shape\n",
    "#     print(array.shape)\n",
    "\n",
    "    num_x_blocks = math.ceil(r / float(nrows))\n",
    "    num_y_blocks = math.ceil(h / float(ncols))\n",
    "\n",
    "    chunks = (array.reshape(h//nrows, nrows, -1, ncols)\n",
    "                 .swapaxes(1, 2)\n",
    "                 .reshape(-1, nrows, ncols))\n",
    "    return np.split(chunks, num_y_blocks)\n",
    "\n",
    "def gather_blocks_to_pages(splits, num_elem_per_page):\n",
    "    blocks = np.concatenate(splits)\n",
    "    pages = []\n",
    "    i = 0\n",
    "\n",
    "    while i < len(blocks):\n",
    "        count = 0\n",
    "        page = []\n",
    "        while i < len(blocks) and count + blocks[i].shape[0] * blocks[i].shape[1] <= num_elem_per_page:\n",
    "            page.append(blocks[i])\n",
    "            count += blocks[i].shape[0] * blocks[i].shape[1]\n",
    "            i += 1\n",
    "        pages.append(page)\n",
    "        print(\"Adding {} elems to page {}\".format(count, len(pages) - 1))\n",
    "    return pages\n",
    "\n",
    "def merge_blocks(blocks, num_blocks_x, num_blocks_y, x, y):\n",
    "    b_x, b_y = blocks[0].shape\n",
    "    t_x, t_y = (b_x * num_blocks_x, b_y * num_blocks_y,)\n",
    "    rows = [np.hstack(blocks[i*num_blocks_y:i*num_blocks_y+num_blocks_y]) for i in range(num_blocks_x)]\n",
    "    matrix = np.vstack(rows)\n",
    "    assert matrix.shape[0] == t_x\n",
    "    r_x = t_x - x\n",
    "    r_y = t_y - y\n",
    "    return matrix[:-r_x, :-r_y]\n",
    "\n",
    "# merge_blocks(x, 2, 2, 4, 4)\n",
    "# x[0]\n",
    "\n",
    "def pages_to_blocks(pages):\n",
    "    blocks = []\n",
    "    for p in pages:\n",
    "        blocks.extend(p)\n",
    "    return blocks"
   ]
  },
  {
   "cell_type": "code",
   "execution_count": 35,
   "metadata": {},
   "outputs": [
    {
     "name": "stdout",
     "output_type": "stream",
     "text": [
      "[array([[[ 1.,  2.,  3.],\n",
      "        [ 5.,  6.,  7.],\n",
      "        [ 9., 10., 11.]],\n",
      "\n",
      "       [[ 4.,  0.,  0.],\n",
      "        [ 8.,  0.,  0.],\n",
      "        [12.,  0.,  0.]]]), array([[[13., 14., 15.],\n",
      "        [ 0.,  0.,  0.],\n",
      "        [ 0.,  0.,  0.]],\n",
      "\n",
      "       [[16.,  0.,  0.],\n",
      "        [ 0.,  0.,  0.],\n",
      "        [ 0.,  0.,  0.]]])]\n",
      "Adding 36 elems to page 0\n"
     ]
    },
    {
     "data": {
      "text/plain": [
       "array([[ 1.,  2.,  3.,  4.],\n",
       "       [ 5.,  6.,  7.,  8.],\n",
       "       [ 9., 10., 11., 12.],\n",
       "       [13., 14., 15., 16.]])"
      ]
     },
     "execution_count": 35,
     "metadata": {},
     "output_type": "execute_result"
    }
   ],
   "source": [
    "j = np.array([\n",
    "    [1,2,3,4],\n",
    "    [5,6,7,8],\n",
    "    [9,10,11,12],\n",
    "    [13,14,15,16]\n",
    "])\n",
    "m, n = j.shape\n",
    "# print(j.shape)\n",
    "x = split(j, 3, 3)\n",
    "print(x)\n",
    "bx, by = len(x), x[0].shape[0]\n",
    "ps = gather_blocks_to_pages(x, 63725) # ~1MB 16 bytes * 63725\n",
    "\n",
    "x = pages_to_blocks(ps)\n",
    "merge_blocks(x, bx, by, m, n)"
   ]
  },
  {
   "cell_type": "code",
   "execution_count": null,
   "metadata": {},
   "outputs": [],
   "source": []
  }
 ],
 "metadata": {
  "kernelspec": {
   "display_name": "Python 3",
   "language": "python",
   "name": "python3"
  },
  "language_info": {
   "codemirror_mode": {
    "name": "ipython",
    "version": 3
   },
   "file_extension": ".py",
   "mimetype": "text/x-python",
   "name": "python",
   "nbconvert_exporter": "python",
   "pygments_lexer": "ipython3",
   "version": "3.8.6"
  }
 },
 "nbformat": 4,
 "nbformat_minor": 4
}
